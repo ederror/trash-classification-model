{
 "cells": [
  {
   "cell_type": "markdown",
   "metadata": {
    "id": "3Sfb97vaWMqq"
   },
   "source": [
    "# Garbage Classification using PyTorch"
   ]
  },
  {
   "cell_type": "markdown",
   "metadata": {
    "id": "PoNFDZuXWMq8"
   },
   "source": [
    "Import the libraries"
   ]
  },
  {
   "cell_type": "code",
   "execution_count": null,
   "metadata": {
    "colab": {
     "base_uri": "https://localhost:8080/"
    },
    "executionInfo": {
     "elapsed": 4449,
     "status": "ok",
     "timestamp": 1624089952318,
     "user": {
      "displayName": "심민보",
      "photoUrl": "",
      "userId": "03374396005040937255"
     },
     "user_tz": -540
    },
    "id": "WHqMRAzpWMq9",
    "outputId": "b38b886c-f566-419e-cea7-2738b6574c4f"
   },
   "outputs": [],
   "source": [
    "#1.8.1     0.9.1\n",
    "import os\n",
    "import torch\n",
    "import torchvision\n",
    "from torch.utils.data import random_split\n",
    "import torchvision.models as models\n",
    "import torch.nn as nn\n",
    "import torch.nn.functional as F\n",
    "import numpy as np"
   ]
  },
  {
   "cell_type": "markdown",
   "metadata": {
    "id": "uwFdaLpoWMq9"
   },
   "source": [
    "드라이브 마운트 & class 확인:"
   ]
  },
  {
   "cell_type": "code",
   "execution_count": null,
   "metadata": {
    "colab": {
     "base_uri": "https://localhost:8080/"
    },
    "executionInfo": {
     "elapsed": 18,
     "status": "ok",
     "timestamp": 1624089952319,
     "user": {
      "displayName": "심민보",
      "photoUrl": "",
      "userId": "03374396005040937255"
     },
     "user_tz": -540
    },
    "id": "WXT4rz8oWMq-",
    "outputId": "413744a7-22cc-49a1-9a0f-5a9f30f39b4a"
   },
   "outputs": [],
   "source": [
    "data_dir  = 'dataset/'\n",
    "classes = os.listdir(data_dir)\n",
    "\n",
    "print(classes)\n",
    "print(len(classes))"
   ]
  },
  {
   "cell_type": "markdown",
   "metadata": {
    "id": "egdiHLYIWMq_"
   },
   "source": [
    "## Transformations:"
   ]
  },
  {
   "cell_type": "markdown",
   "metadata": {
    "id": "NyHZYxXxWMrA"
   },
   "source": [
    "Dataset 불러오고 변환 후 저장\n"
   ]
  },
  {
   "cell_type": "code",
   "execution_count": null,
   "metadata": {
    "id": "4RyC-uweWMrA"
   },
   "outputs": [],
   "source": [
    "from torchvision.datasets import ImageFolder\n",
    "import torchvision.transforms as transforms\n",
    "\n",
    "\n",
    "transformations = transforms.Compose([transforms.Resize(256),\n",
    "                                      transforms.CenterCrop(224),\n",
    "                                      transforms.ToTensor(),\n",
    "                                      transforms.Normalize(mean=[0.485, 0.456, 0.406], std=[0.229, 0.224, 0.225])])\n",
    "\n",
    "dataset = ImageFolder(data_dir, transform = transformations)"
   ]
  },
  {
   "cell_type": "markdown",
   "metadata": {
    "id": "65wBnZ-mWMrB"
   },
   "source": [
    "dataset이 잘 불러와졌는지 확인"
   ]
  },
  {
   "cell_type": "code",
   "execution_count": null,
   "metadata": {
    "id": "J30wMiSaWMrB"
   },
   "outputs": [],
   "source": [
    "from torchvision.utils import make_grid\n",
    "import matplotlib.pyplot as plt\n",
    "%matplotlib inline\n",
    "\n",
    "def imshow_denormalize(img):\n",
    "    img = img.numpy().transpose((1, 2, 0))\n",
    "    mean = np.array([0.485, 0.456, 0.406])\n",
    "    std = np.array([0.229, 0.224, 0.225])\n",
    "    img = std * img + mean\n",
    "    img = np.clip(img, 0, 1)\n",
    "    plt.imshow(img)\n",
    "    \n",
    "\n",
    "def show_sample(img, label):\n",
    "    print(\"Label:\", dataset.classes[label], \"(Class No: \"+ str(label) + \")\")\n",
    "    imshow_denormalize(img)\n",
    "    \n",
    "    \n",
    "def show_batch(dl):\n",
    "    images, labels = dl[0]\n",
    "    fig, ax = plt.subplots(figsize=(12, 6))\n",
    "    ax.set_xticks([])\n",
    "    ax.set_yticks([])\n",
    "    ax.imshow(make_grid(images, nrow = 16).permute(1, 2, 0))"
   ]
  },
  {
   "cell_type": "code",
   "execution_count": null,
   "metadata": {
    "colab": {
     "base_uri": "https://localhost:8080/",
     "height": 287
    },
    "executionInfo": {
     "elapsed": 15,
     "status": "ok",
     "timestamp": 1624089952972,
     "user": {
      "displayName": "심민보",
      "photoUrl": "",
      "userId": "03374396005040937255"
     },
     "user_tz": -540
    },
    "id": "4qN8sHGQWMrB",
    "outputId": "c1e1347c-7f5c-480c-fed8-4418dc539926"
   },
   "outputs": [],
   "source": [
    "img, label = dataset[1000]\n",
    "show_sample(img, label)"
   ]
  },
  {
   "cell_type": "markdown",
   "metadata": {
    "id": "yzu4l_EDWMrI"
   },
   "source": [
    "Batch가 잘 나눠졌는지 확인하기 위해 시각화\n"
   ]
  },
  {
   "cell_type": "markdown",
   "metadata": {
    "id": "3H0uVWDPWMrJ"
   },
   "source": [
    "# Model Base:"
   ]
  },
  {
   "cell_type": "code",
   "execution_count": null,
   "metadata": {
    "id": "QFTznCJfBmpM"
   },
   "outputs": [],
   "source": [
    "def accuracy(outputs, labels):\n",
    "    \"\"\"출력과 정답을 비교해 top-1 정확도를 반환\"\"\"\n",
    "    _, preds = torch.max(outputs, dim=1)\n",
    "    return torch.tensor(torch.sum(preds == labels).item() / len(preds))"
   ]
  },
  {
   "cell_type": "markdown",
   "metadata": {
    "id": "pnGOpYelWMrK"
   },
   "source": [
    "##self.backbone = models.resnet50(pretrained=True) 수정\n",
    "\n"
   ]
  },
  {
   "cell_type": "markdown",
   "metadata": {
    "id": "tPBCTTmMQyP0"
   },
   "source": [
    "- resnet18 = models.resnet18(pretrained=True)\n",
    "- alexnet = models.alexnet(pretrained=True)\n",
    "- squeezenet = models.squeezenet1_0(pretrained=True)\n",
    "- vgg16 = models.vgg16(pretrained=True)\n",
    "- densenet = models.densenet161(pretrained=True)\n",
    "- inception = models.inception_v3(pretrained=True)\n",
    "- googlenet = models.googlenet(pretrained=True)\n",
    "- shufflenet = models.shufflenet_v2_x1_0(pretrained=True)\n",
    "- mobilenet_v2 = models.mobilenet_v2(pretrained=True)\n",
    "- mobilenet_v3_large = models.mobilenet_v3_large(pretrained=True)\n",
    "- mobilenet_v3_small = models.mobilenet_v3_small(pretrained=True)\n",
    "- resnext50_32x4d = models.resnext50_32x4d(pretrained=True)\n",
    "- wide_resnet50_2 = models.wide_resnet50_2(pretrained=True)\n",
    "- mnasnet = models.mnasnet1_0(pretrained=True)\n",
    "\n",
    "Reference : https://pytorch.org/vision/stable/models.html"
   ]
  },
  {
   "cell_type": "code",
   "execution_count": null,
   "metadata": {
    "id": "oh_hIlF5WMrM"
   },
   "outputs": [],
   "source": [
    "class OurModel(nn.Module):\n",
    "    \n",
    "    def __init__(self):\n",
    "        super().__init__()\n",
    "        # Use a pretrained model\n",
    "        self.backbone = models.resnext50_32x4d(pretrained=True)\n",
    "        # Replace last layer\n",
    "        num_ftrs = self.backbone.fc.in_features\n",
    "        self.backbone.fc = nn.Linear(num_ftrs, len(dataset.classes))\n",
    "    \n",
    "    def forward(self, xb):\n",
    "        return torch.softmax(self.backbone(xb), dim=1)\n",
    "\n",
    "    def get_loss(self, batch):\n",
    "        \"\"\"batch에 대해 cross entropy loss를 계산 후 반환\"\"\"\n",
    "        images, labels = batch \n",
    "        out = self(images)                  # Generate predictions\n",
    "        loss = F.cross_entropy(out, labels) # Calculate loss\n",
    "        return loss\n",
    "    \n",
    "    def validation(self, batch):\n",
    "        images, labels = batch \n",
    "        out = self(images)                    # Generate predictions\n",
    "        loss = F.cross_entropy(out, labels)   # Calculate loss\n",
    "        acc = accuracy(out, labels)           # Calculate accuracy\n",
    "        return {'val_loss': loss.detach(), 'val_acc': acc}\n",
    "        \n",
    "model = OurModel()"
   ]
  },
  {
   "cell_type": "markdown",
   "metadata": {
    "id": "87Jz3Av_WMrN"
   },
   "source": [
    "## GPU 병렬 처리:"
   ]
  },
  {
   "cell_type": "code",
   "execution_count": null,
   "metadata": {},
   "outputs": [],
   "source": [
    "def list_to_device(batch, device):\n",
    "    \"\"\"list로 된 batch의 각 원소를 device에 올려줌\"\"\"\n",
    "    converted_batch = []\n",
    "    for data in batch:\n",
    "        converted_batch.append(data.to(device, non_blocking=True))\n",
    "    return converted_batch"
   ]
  },
  {
   "cell_type": "code",
   "execution_count": null,
   "metadata": {
    "colab": {
     "base_uri": "https://localhost:8080/"
    },
    "executionInfo": {
     "elapsed": 5,
     "status": "ok",
     "timestamp": 1624089955103,
     "user": {
      "displayName": "심민보",
      "photoUrl": "",
      "userId": "03374396005040937255"
     },
     "user_tz": -540
    },
    "id": "WRPqthIgWMrN",
    "outputId": "2b965a50-d800-4648-9573-3407fb74419d"
   },
   "outputs": [],
   "source": [
    "device = torch.device('cuda') if torch.cuda.is_available() else torch.device('cpu')\n",
    "print(f'current device = {device}')"
   ]
  },
  {
   "cell_type": "markdown",
   "metadata": {
    "id": "p6_8i83bWMrP"
   },
   "source": [
    "# Training the Model:"
   ]
  },
  {
   "cell_type": "markdown",
   "metadata": {
    "id": "ksT0PXbLWMrP"
   },
   "source": [
    "This is the function for fitting the model."
   ]
  },
  {
   "cell_type": "code",
   "execution_count": null,
   "metadata": {
    "id": "ZLJzWKsBWMrP",
    "scrolled": true
   },
   "outputs": [],
   "source": [
    "@torch.no_grad()\n",
    "def evaluate(model, val_loader):\n",
    "    model.eval() # eval 모드로 전환\n",
    "    outputs = [model.validation(list_to_device(batch,device)) for batch in val_loader] # 각 batch별 loss, acc 저장\n",
    "    \n",
    "    batch_losses = [x['val_loss'] for x in outputs]\n",
    "    epoch_loss = torch.stack(batch_losses).mean()   # Combine losses\n",
    "    batch_accs = [x['val_acc'] for x in outputs]\n",
    "    epoch_acc = torch.stack(batch_accs).mean()      # Combine accuracies\n",
    "    return {'val_loss': epoch_loss.item(), 'val_acc': epoch_acc.item()}\n",
    "\n",
    "\n",
    "def fit(epochs, lr, model, train_loader, val_loader, opt_func=torch.optim.SGD):\n",
    "    history = []\n",
    "    optimizer = opt_func(model.parameters(), lr)\n",
    "    for epoch in range(epochs):\n",
    "        # Training Phase \n",
    "        model.train()\n",
    "        train_losses = []\n",
    "        for batch in train_loader:\n",
    "            loss = model.get_loss(list_to_device(batch, device))\n",
    "            train_losses.append(loss)\n",
    "            loss.backward()\n",
    "            optimizer.step()\n",
    "            optimizer.zero_grad()\n",
    "            \n",
    "        # Validation phase\n",
    "        result = evaluate(model, val_loader)\n",
    "        result['train_loss'] = torch.stack(train_losses).mean().item()\n",
    "        history.append(result)\n",
    "        print(f\"Epoch {epoch+1}: train_loss: {result['train_loss']:.4f}, val_loss: {result['val_loss']:.4f}, val_acc: {result['val_acc']:.4f}\")\n",
    "    return history"
   ]
  },
  {
   "cell_type": "markdown",
   "metadata": {
    "id": "OGw0r-1qWMrY"
   },
   "source": [
    "모델 학습:"
   ]
  },
  {
   "cell_type": "code",
   "execution_count": null,
   "metadata": {
    "colab": {
     "base_uri": "https://localhost:8080/"
    },
    "executionInfo": {
     "elapsed": 1299624,
     "status": "ok",
     "timestamp": 1624091264161,
     "user": {
      "displayName": "심민보",
      "photoUrl": "",
      "userId": "03374396005040937255"
     },
     "user_tz": -540
    },
    "id": "w8UlFjlOWMrY",
    "outputId": "a146d60d-0753-4f30-fa19-359883d6fc58",
    "scrolled": false
   },
   "outputs": [],
   "source": [
    "from sklearn.model_selection import KFold\n",
    "from torch.utils.data import SubsetRandomSampler\n",
    "from torch.utils.data.dataloader import DataLoader\n",
    "\n",
    "num_epochs = 3\n",
    "opt_func = torch.optim.Adam\n",
    "lr = 5.5e-5\n",
    "batch_size = 16\n",
    "\n",
    "model = None\n",
    "history = None\n",
    "kf = KFold(n_splits=8, shuffle=True)\n",
    "\n",
    "for fold, (train_idx, test_idx) in enumerate(kf.split(dataset)):\n",
    "    cur_model = OurModel().to(device)\n",
    "    print(f'======== fold no.{fold+1} ============')\n",
    "    \n",
    "    train_subsampler = SubsetRandomSampler(train_idx)\n",
    "    test_subsampler = SubsetRandomSampler(test_idx)\n",
    "    train_dl = DataLoader(dataset, batch_size, sampler=train_subsampler, num_workers = 2, pin_memory = True)\n",
    "    test_dl = DataLoader(dataset, batch_size, sampler=test_subsampler, num_workers = 2, pin_memory = True)\n",
    "    \n",
    "    cur_history = fit(num_epochs, lr, cur_model, train_dl, test_dl, opt_func)\n",
    "    \n",
    "    if not history or cur_history[-1]['val_acc'] > history[-1]['val_acc']:\n",
    "        model = cur_model\n",
    "        history = cur_history\n",
    "    "
   ]
  },
  {
   "cell_type": "code",
   "execution_count": null,
   "metadata": {
    "colab": {
     "base_uri": "https://localhost:8080/",
     "height": 295
    },
    "executionInfo": {
     "elapsed": 1068,
     "status": "ok",
     "timestamp": 1624091265224,
     "user": {
      "displayName": "심민보",
      "photoUrl": "",
      "userId": "03374396005040937255"
     },
     "user_tz": -540
    },
    "id": "E9KWm_CEWMra",
    "outputId": "a3ef549c-97f8-4b0e-89fb-8f41c9402bb7"
   },
   "outputs": [],
   "source": [
    "def plot_accuracies(history):\n",
    "    accuracies = [x['val_acc'] for x in history]\n",
    "    plt.plot(accuracies, '-x')\n",
    "    plt.xlabel('epoch')\n",
    "    plt.ylabel('accuracy')\n",
    "    plt.title('Accuracy vs. No. of epochs');\n",
    "\n",
    "plot_accuracies(history)"
   ]
  },
  {
   "cell_type": "code",
   "execution_count": null,
   "metadata": {
    "colab": {
     "base_uri": "https://localhost:8080/",
     "height": 295
    },
    "executionInfo": {
     "elapsed": 24,
     "status": "ok",
     "timestamp": 1624091265226,
     "user": {
      "displayName": "심민보",
      "photoUrl": "",
      "userId": "03374396005040937255"
     },
     "user_tz": -540
    },
    "id": "-YxKtjBOWMrc",
    "outputId": "78c4ae47-b4ee-4ea1-c006-d4125c6a988d"
   },
   "outputs": [],
   "source": [
    "def plot_losses(history):\n",
    "    train_losses = [x.get('train_loss') for x in history]\n",
    "    val_losses = [x['val_loss'] for x in history]\n",
    "    plt.plot(train_losses, '-bx')\n",
    "    plt.plot(val_losses, '-rx')\n",
    "    plt.xlabel('epoch')\n",
    "    plt.ylabel('loss')\n",
    "    plt.legend(['Training', 'Validation'])\n",
    "    plt.title('Loss vs. No. of epochs');\n",
    "\n",
    "plot_losses(history)"
   ]
  },
  {
   "cell_type": "markdown",
   "metadata": {
    "id": "Yce2Q1uqAhtT"
   },
   "source": [
    "#Saving the model"
   ]
  },
  {
   "cell_type": "code",
   "execution_count": null,
   "metadata": {
    "id": "Cnu_J7jxAj3y"
   },
   "outputs": [],
   "source": [
    "Path = ''\n",
    "FileName = 'resnext50_32x4d.pt'\n",
    "torch.save(model, Path+FileName)"
   ]
  },
  {
   "cell_type": "markdown",
   "metadata": {
    "id": "WXQJQBM-WMrd"
   },
   "source": [
    "# Visualizing Predictions:\n",
    "Test set에 있는 이미지들 예측 결과입니다."
   ]
  },
  {
   "cell_type": "code",
   "execution_count": null,
   "metadata": {
    "id": "rTikUvqRWMrd"
   },
   "outputs": [],
   "source": [
    "def predict_image(img, model):\n",
    "    # Convert to a batch of 1\n",
    "    xb = to_device(img.unsqueeze(0), device)\n",
    "    # Get predictions from model\n",
    "    yb = model(xb)\n",
    "    # Pick index with highest probability\n",
    "    prob, preds  = torch.max(yb, dim=1)\n",
    "    # Retrieve the class label\n",
    "    return dataset.classes[preds[0].item()]"
   ]
  },
  {
   "cell_type": "code",
   "execution_count": null,
   "metadata": {
    "colab": {
     "base_uri": "https://localhost:8080/",
     "height": 287
    },
    "executionInfo": {
     "elapsed": 1230,
     "status": "ok",
     "timestamp": 1624091266442,
     "user": {
      "displayName": "심민보",
      "photoUrl": "",
      "userId": "03374396005040937255"
     },
     "user_tz": -540
    },
    "id": "q7NNI9X-WMre",
    "outputId": "569ce24a-2f03-4944-c88e-8fb70eb1a418"
   },
   "outputs": [],
   "source": [
    "img, label = test_ds[102]\n",
    "#plt.imshow(img.permute(1, 2, 0))\n",
    "imshow_denormalize(img)\n",
    "print('Label:', dataset.classes[label], ', Predicted:', predict_image(img, model))"
   ]
  },
  {
   "cell_type": "markdown",
   "metadata": {
    "id": "apjxr4UoWMrh"
   },
   "source": [
    "# 직접 찍은 사진들로 테스트한 결과입니다."
   ]
  },
  {
   "cell_type": "markdown",
   "metadata": {
    "id": "4jA8zSR3WMrk"
   },
   "source": [
    "savedModels 디렉토리에 저장된 모델을 가져옵니다.\n",
    "- loaded_model = model : 위에서 학습한 모델 사용\n",
    "- loaded_model = torch.load('~/modelname.pt') : 모델 불러오기 \n",
    "- model.eval() : 모델의 모드를 evaluation 모드로 바꿉니다. (prediction을 위해)\n",
    "\n",
    "Ref : https://tutorials.pytorch.kr/beginner/saving_loading_models.html"
   ]
  },
  {
   "cell_type": "code",
   "execution_count": null,
   "metadata": {
    "colab": {
     "base_uri": "https://localhost:8080/"
    },
    "executionInfo": {
     "elapsed": 24,
     "status": "ok",
     "timestamp": 1624091266442,
     "user": {
      "displayName": "심민보",
      "photoUrl": "",
      "userId": "03374396005040937255"
     },
     "user_tz": -540
    },
    "id": "bls_xLSmWMrl",
    "outputId": "fa65496f-d3e4-4122-bb4c-ebba142f4ca0"
   },
   "outputs": [],
   "source": [
    "loaded_model = model\n",
    "\n",
    "#drive.mount('/content/drive')\n",
    "'''\n",
    "loaded_model = OurModel()\n",
    "Path = '/content/drive/MyDrive/캡디/savedModels/'\n",
    "FileName = 'resnext50_32x4d.pt'\n",
    "loaded_model = torch.load(Path+FileName)\n",
    "'''\n",
    "model.eval()"
   ]
  },
  {
   "cell_type": "markdown",
   "metadata": {
    "id": "Kl1YhbOpWMrl"
   },
   "source": [
    "This function takes the image's name and prints the predictions:"
   ]
  },
  {
   "cell_type": "code",
   "execution_count": null,
   "metadata": {
    "id": "dErB4QREWMrl"
   },
   "outputs": [],
   "source": [
    "from PIL import Image\n",
    "from pathlib import Path\n",
    "\n",
    "def predict_external_image(image_name):\n",
    "    #image = Image.open(Path('/content/drive/MyDrive/test/' + image_name))\n",
    "    image = Image.open(Path('/content/drive/MyDrive/캡디/test/' + image_name))\n",
    "    example_image = transformations(image)\n",
    "    #plt.imshow(example_image.permute(1, 2, 0))\n",
    "    imshow_denormalize(example_image)\n",
    "    print(\"이 물건은 \", predict_image(example_image, loaded_model) + \"입니다.\")"
   ]
  },
  {
   "cell_type": "code",
   "execution_count": null,
   "metadata": {
    "colab": {
     "base_uri": "https://localhost:8080/",
     "height": 287
    },
    "executionInfo": {
     "elapsed": 22,
     "status": "ok",
     "timestamp": 1624091266444,
     "user": {
      "displayName": "심민보",
      "photoUrl": "",
      "userId": "03374396005040937255"
     },
     "user_tz": -540
    },
    "id": "x_pTVU8HnzG2",
    "outputId": "d05acebd-1ae3-4db3-e62e-217e42029442"
   },
   "outputs": [],
   "source": [
    "predict_external_image('test_cd2.jpg')"
   ]
  },
  {
   "cell_type": "code",
   "execution_count": null,
   "metadata": {
    "colab": {
     "base_uri": "https://localhost:8080/",
     "height": 287
    },
    "executionInfo": {
     "elapsed": 16,
     "status": "ok",
     "timestamp": 1624091266444,
     "user": {
      "displayName": "심민보",
      "photoUrl": "",
      "userId": "03374396005040937255"
     },
     "user_tz": -540
    },
    "id": "qbl6lOo7xFYg",
    "outputId": "93a012f5-4a53-4a90-c7c6-5e410bbc29e7"
   },
   "outputs": [],
   "source": [
    "predict_external_image('test_tooth brush.jpg')"
   ]
  },
  {
   "cell_type": "code",
   "execution_count": null,
   "metadata": {
    "colab": {
     "base_uri": "https://localhost:8080/",
     "height": 287
    },
    "executionInfo": {
     "elapsed": 1546,
     "status": "ok",
     "timestamp": 1624091267977,
     "user": {
      "displayName": "심민보",
      "photoUrl": "",
      "userId": "03374396005040937255"
     },
     "user_tz": -540
    },
    "id": "KYieo23TxOSV",
    "outputId": "c2cb1600-ad08-4343-c19b-ab044bb94c6c"
   },
   "outputs": [],
   "source": [
    "predict_external_image('test_rubber glove.jpg')"
   ]
  },
  {
   "cell_type": "code",
   "execution_count": null,
   "metadata": {
    "colab": {
     "base_uri": "https://localhost:8080/",
     "height": 287
    },
    "executionInfo": {
     "elapsed": 26,
     "status": "ok",
     "timestamp": 1624091267977,
     "user": {
      "displayName": "심민보",
      "photoUrl": "",
      "userId": "03374396005040937255"
     },
     "user_tz": -540
    },
    "id": "KSPpTC2umXPY",
    "outputId": "20bbc57d-6c59-4051-f3e3-a8c06d7b07de"
   },
   "outputs": [],
   "source": [
    "predict_external_image('test_hairdryer.jpg')"
   ]
  },
  {
   "cell_type": "code",
   "execution_count": null,
   "metadata": {
    "colab": {
     "base_uri": "https://localhost:8080/",
     "height": 287
    },
    "executionInfo": {
     "elapsed": 20,
     "status": "ok",
     "timestamp": 1624091267979,
     "user": {
      "displayName": "심민보",
      "photoUrl": "",
      "userId": "03374396005040937255"
     },
     "user_tz": -540
    },
    "id": "C0hhDix9WMrm",
    "outputId": "3aa3525b-c6a3-457c-9110-24493996d858"
   },
   "outputs": [],
   "source": [
    "predict_external_image('test_egg1.jpg')"
   ]
  },
  {
   "cell_type": "code",
   "execution_count": null,
   "metadata": {
    "colab": {
     "base_uri": "https://localhost:8080/",
     "height": 287
    },
    "executionInfo": {
     "elapsed": 13,
     "status": "ok",
     "timestamp": 1624091267979,
     "user": {
      "displayName": "심민보",
      "photoUrl": "",
      "userId": "03374396005040937255"
     },
     "user_tz": -540
    },
    "id": "M3ijkK2bWMrm",
    "outputId": "608cf98c-4700-4be4-a19a-55c20eddcae0"
   },
   "outputs": [],
   "source": [
    "predict_external_image('test_PET.jpg')"
   ]
  },
  {
   "cell_type": "code",
   "execution_count": null,
   "metadata": {
    "colab": {
     "base_uri": "https://localhost:8080/",
     "height": 287
    },
    "executionInfo": {
     "elapsed": 1554,
     "status": "ok",
     "timestamp": 1624091269524,
     "user": {
      "displayName": "심민보",
      "photoUrl": "",
      "userId": "03374396005040937255"
     },
     "user_tz": -540
    },
    "id": "TFZ5yiKlWMrs",
    "outputId": "79ec20d5-44c0-475b-ab3c-b1686f1926e6"
   },
   "outputs": [],
   "source": [
    "predict_external_image('test_yogurt.jpg')"
   ]
  },
  {
   "cell_type": "code",
   "execution_count": null,
   "metadata": {
    "colab": {
     "base_uri": "https://localhost:8080/",
     "height": 287
    },
    "executionInfo": {
     "elapsed": 32,
     "status": "ok",
     "timestamp": 1624091269525,
     "user": {
      "displayName": "심민보",
      "photoUrl": "",
      "userId": "03374396005040937255"
     },
     "user_tz": -540
    },
    "id": "w13fPBSHWMrm",
    "outputId": "abe8b511-eb9d-40eb-f187-a26bd1160986"
   },
   "outputs": [],
   "source": [
    "predict_external_image('test_sd1.jpg')"
   ]
  },
  {
   "cell_type": "code",
   "execution_count": null,
   "metadata": {
    "colab": {
     "base_uri": "https://localhost:8080/",
     "height": 287
    },
    "executionInfo": {
     "elapsed": 25,
     "status": "ok",
     "timestamp": 1624091269525,
     "user": {
      "displayName": "심민보",
      "photoUrl": "",
      "userId": "03374396005040937255"
     },
     "user_tz": -540
    },
    "id": "rkHHr4fQWMrn",
    "outputId": "6a43315f-2ded-48ed-8ae0-7a5c96295403"
   },
   "outputs": [],
   "source": [
    "predict_external_image('test_sd2.jpg')"
   ]
  },
  {
   "cell_type": "code",
   "execution_count": null,
   "metadata": {
    "colab": {
     "base_uri": "https://localhost:8080/",
     "height": 287
    },
    "executionInfo": {
     "elapsed": 21,
     "status": "ok",
     "timestamp": 1624091269526,
     "user": {
      "displayName": "심민보",
      "photoUrl": "",
      "userId": "03374396005040937255"
     },
     "user_tz": -540
    },
    "id": "T64yAKRBawPY",
    "outputId": "b575525a-3b8f-49d6-96fc-bcb800d25737"
   },
   "outputs": [],
   "source": [
    "predict_external_image('test_mask1.jpg')"
   ]
  },
  {
   "cell_type": "code",
   "execution_count": null,
   "metadata": {
    "colab": {
     "base_uri": "https://localhost:8080/",
     "height": 287
    },
    "executionInfo": {
     "elapsed": 18,
     "status": "ok",
     "timestamp": 1624091269527,
     "user": {
      "displayName": "심민보",
      "photoUrl": "",
      "userId": "03374396005040937255"
     },
     "user_tz": -540
    },
    "id": "1vUVftkeawqr",
    "outputId": "f567e829-b58f-407e-85a2-822d7cb1846e"
   },
   "outputs": [],
   "source": [
    "predict_external_image('test_mask2.jpg')"
   ]
  },
  {
   "cell_type": "code",
   "execution_count": null,
   "metadata": {
    "colab": {
     "base_uri": "https://localhost:8080/",
     "height": 287
    },
    "executionInfo": {
     "elapsed": 15,
     "status": "ok",
     "timestamp": 1624091269527,
     "user": {
      "displayName": "심민보",
      "photoUrl": "",
      "userId": "03374396005040937255"
     },
     "user_tz": -540
    },
    "id": "lJRJ_A0obDxy",
    "outputId": "bcbf2ada-96fc-4d80-dd63-332988c786fb"
   },
   "outputs": [],
   "source": [
    "predict_external_image('test_notebook1.jpg')"
   ]
  },
  {
   "cell_type": "code",
   "execution_count": null,
   "metadata": {
    "colab": {
     "base_uri": "https://localhost:8080/",
     "height": 287
    },
    "executionInfo": {
     "elapsed": 1550,
     "status": "ok",
     "timestamp": 1624091271067,
     "user": {
      "displayName": "심민보",
      "photoUrl": "",
      "userId": "03374396005040937255"
     },
     "user_tz": -540
    },
    "id": "OfzvnqQif8RL",
    "outputId": "bc600f1a-9b33-4820-8df9-495dfc485767"
   },
   "outputs": [],
   "source": [
    "predict_external_image('test_notebook3.jpg')"
   ]
  },
  {
   "cell_type": "code",
   "execution_count": null,
   "metadata": {
    "colab": {
     "base_uri": "https://localhost:8080/",
     "height": 287
    },
    "executionInfo": {
     "elapsed": 25,
     "status": "ok",
     "timestamp": 1624091271068,
     "user": {
      "displayName": "심민보",
      "photoUrl": "",
      "userId": "03374396005040937255"
     },
     "user_tz": -540
    },
    "id": "UbH8rVSif8u9",
    "outputId": "d0796681-a55a-4d5c-b0f0-cb8e455748f2"
   },
   "outputs": [],
   "source": [
    "predict_external_image('test_icepack2.jpg')"
   ]
  },
  {
   "cell_type": "code",
   "execution_count": null,
   "metadata": {
    "colab": {
     "base_uri": "https://localhost:8080/",
     "height": 287
    },
    "executionInfo": {
     "elapsed": 21,
     "status": "ok",
     "timestamp": 1624091271068,
     "user": {
      "displayName": "심민보",
      "photoUrl": "",
      "userId": "03374396005040937255"
     },
     "user_tz": -540
    },
    "id": "TIFscofXoLKH",
    "outputId": "9b29e6ea-d246-40dc-ef6e-f42802981865"
   },
   "outputs": [],
   "source": [
    "predict_external_image('test_receipt1.jpg')"
   ]
  },
  {
   "cell_type": "code",
   "execution_count": null,
   "metadata": {
    "colab": {
     "base_uri": "https://localhost:8080/",
     "height": 287
    },
    "executionInfo": {
     "elapsed": 18,
     "status": "ok",
     "timestamp": 1624091271068,
     "user": {
      "displayName": "심민보",
      "photoUrl": "",
      "userId": "03374396005040937255"
     },
     "user_tz": -540
    },
    "id": "R3LndQOjoMNp",
    "outputId": "e8c8e26a-f94c-4f3b-e585-e59a86d0730d"
   },
   "outputs": [],
   "source": [
    "predict_external_image('test_receipt2.jpg')"
   ]
  },
  {
   "cell_type": "code",
   "execution_count": null,
   "metadata": {
    "colab": {
     "base_uri": "https://localhost:8080/",
     "height": 287
    },
    "executionInfo": {
     "elapsed": 16,
     "status": "ok",
     "timestamp": 1624091271069,
     "user": {
      "displayName": "심민보",
      "photoUrl": "",
      "userId": "03374396005040937255"
     },
     "user_tz": -540
    },
    "id": "x4YRwiIOoXbV",
    "outputId": "1e4fb661-b84a-4a85-e860-7f808b1d02a5"
   },
   "outputs": [],
   "source": [
    "predict_external_image('test_receipt3.jpg')"
   ]
  },
  {
   "cell_type": "code",
   "execution_count": null,
   "metadata": {
    "colab": {
     "base_uri": "https://localhost:8080/",
     "height": 287
    },
    "executionInfo": {
     "elapsed": 12,
     "status": "ok",
     "timestamp": 1624091271069,
     "user": {
      "displayName": "심민보",
      "photoUrl": "",
      "userId": "03374396005040937255"
     },
     "user_tz": -540
    },
    "id": "VbwfxXZEoXm1",
    "outputId": "cab94e3e-d106-4d02-b3c4-f62804446290"
   },
   "outputs": [],
   "source": [
    "predict_external_image('test_receipt4.jpg')"
   ]
  },
  {
   "cell_type": "code",
   "execution_count": null,
   "metadata": {
    "colab": {
     "base_uri": "https://localhost:8080/",
     "height": 287
    },
    "executionInfo": {
     "elapsed": 1549,
     "status": "ok",
     "timestamp": 1624091272609,
     "user": {
      "displayName": "심민보",
      "photoUrl": "",
      "userId": "03374396005040937255"
     },
     "user_tz": -540
    },
    "id": "t9PERxraoXvJ",
    "outputId": "b8b6f23a-03db-4166-927c-13202ccb1f22"
   },
   "outputs": [],
   "source": [
    "predict_external_image('test_pill1.jpg')"
   ]
  },
  {
   "cell_type": "code",
   "execution_count": null,
   "metadata": {
    "colab": {
     "base_uri": "https://localhost:8080/",
     "height": 287
    },
    "executionInfo": {
     "elapsed": 31,
     "status": "ok",
     "timestamp": 1624091272610,
     "user": {
      "displayName": "심민보",
      "photoUrl": "",
      "userId": "03374396005040937255"
     },
     "user_tz": -540
    },
    "id": "-l4XEIEVodkX",
    "outputId": "b3040d3f-6e3d-43e5-ecfb-80975b93b213"
   },
   "outputs": [],
   "source": [
    "predict_external_image('test_pill2.jpg') # 2 class가 한 이미지에 있을 때.  0.6874"
   ]
  },
  {
   "cell_type": "markdown",
   "metadata": {
    "id": "96U3UQHGR3zK"
   },
   "source": [
    "#Convert PyTorch models to Core ML\n",
    "\n",
    "https://developer.apple.com/videos/play/tech-talks/10154/"
   ]
  },
  {
   "cell_type": "code",
   "execution_count": null,
   "metadata": {
    "colab": {
     "base_uri": "https://localhost:8080/"
    },
    "executionInfo": {
     "elapsed": 1751,
     "status": "ok",
     "timestamp": 1624091274352,
     "user": {
      "displayName": "심민보",
      "photoUrl": "",
      "userId": "03374396005040937255"
     },
     "user_tz": -540
    },
    "id": "Jgk5JeKGR75w",
    "outputId": "9bc47467-19bc-40ee-cb67-249d79763394"
   },
   "outputs": [],
   "source": [
    "!pip install -U coremltools\n",
    "import coremltools as ct"
   ]
  },
  {
   "cell_type": "code",
   "execution_count": null,
   "metadata": {
    "id": "T504yGTASG7m"
   },
   "outputs": [],
   "source": [
    "sample_img = dataset[0][0]\n",
    "sample_img = to_device(sample_img.unsqueeze(0), device)"
   ]
  },
  {
   "cell_type": "code",
   "execution_count": null,
   "metadata": {
    "colab": {
     "base_uri": "https://localhost:8080/"
    },
    "executionInfo": {
     "elapsed": 1079,
     "status": "ok",
     "timestamp": 1624091275427,
     "user": {
      "displayName": "심민보",
      "photoUrl": "",
      "userId": "03374396005040937255"
     },
     "user_tz": -540
    },
    "id": "38HcenQKU6xY",
    "outputId": "51358c78-4551-4912-a338-0ddf87b3b207"
   },
   "outputs": [],
   "source": [
    "traced_model = torch.jit.trace(loaded_model, sample_img)\n",
    "_input = ct.ImageType(\n",
    "    name = \"InputImg\",\n",
    "    shape = sample_img.shape,\n",
    "    bias = [-0.485/0.229, -0.456/0.224, -0.406/0.225],\n",
    "    scale = 1./(255*0.226)\n",
    ")\n",
    "#    \n",
    "print(sample_img.shape)\n",
    "print(dataset.classes)\n",
    "classifier_config = ct.ClassifierConfig(dataset.classes)"
   ]
  },
  {
   "cell_type": "code",
   "execution_count": null,
   "metadata": {
    "colab": {
     "base_uri": "https://localhost:8080/"
    },
    "executionInfo": {
     "elapsed": 8812,
     "status": "ok",
     "timestamp": 1624091284238,
     "user": {
      "displayName": "심민보",
      "photoUrl": "",
      "userId": "03374396005040937255"
     },
     "user_tz": -540
    },
    "id": "DolAwOPoXd4X",
    "outputId": "571246e7-f118-4bb7-a24c-ec2908d0e153"
   },
   "outputs": [],
   "source": [
    "mlmodel = ct.convert(\n",
    "    traced_model,\n",
    "    inputs= [_input],\n",
    "    classifier_config=classifier_config\n",
    ")\n",
    "\n",
    "mlmodel.short_description = \"Trash Image Classifier\"\n",
    "mlmodel.save(\"/content/drive/MyDrive/캡디/TrashClassificationModel.mlmodel\")"
   ]
  },
  {
   "cell_type": "markdown",
   "metadata": {
    "id": "26cmpteKIVfw"
   },
   "source": [
    "저장..."
   ]
  },
  {
   "cell_type": "code",
   "execution_count": null,
   "metadata": {
    "id": "v_ljw1BxGK2j"
   },
   "outputs": [],
   "source": []
  },
  {
   "cell_type": "code",
   "execution_count": null,
   "metadata": {
    "id": "nkrC8sGOIgoe"
   },
   "outputs": [],
   "source": []
  }
 ],
 "metadata": {
  "accelerator": "GPU",
  "colab": {
   "collapsed_sections": [
    "87Jz3Av_WMrN",
    "apjxr4UoWMrh"
   ],
   "name": "pytorch-garbage-classification.ipynb",
   "provenance": []
  },
  "kernelspec": {
   "display_name": "Python 3",
   "language": "python",
   "name": "python3"
  },
  "language_info": {
   "codemirror_mode": {
    "name": "ipython",
    "version": 3
   },
   "file_extension": ".py",
   "mimetype": "text/x-python",
   "name": "python",
   "nbconvert_exporter": "python",
   "pygments_lexer": "ipython3",
   "version": "3.9.2"
  }
 },
 "nbformat": 4,
 "nbformat_minor": 1
}
